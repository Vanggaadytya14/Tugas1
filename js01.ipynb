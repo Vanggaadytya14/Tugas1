{
 "cells": [
  {
   "cell_type": "code",
   "execution_count": 1,
   "metadata": {},
   "outputs": [],
   "source": [
    "# Manual normalization\n",
    "def norm_manual(data):\n",
    "    n_max = max(data)\n",
    "    n_min = min(data)\n",
    "    l_data = len(data) # panjang data\n",
    "\n",
    "    for i in range(0, l_data):\n",
    "        data[i] = (data[i] - n_min) / (n_max - n_nim)\n",
    "\n",
    "\n",
    "    return data"
   ]
  },
  {
   "cell_type": "code",
   "execution_count": 15,
   "metadata": {},
   "outputs": [
    {
     "ename": "NameError",
     "evalue": "name 'n_nim' is not defined",
     "output_type": "error",
     "traceback": [
      "\u001b[1;31m---------------------------------------------------------------------------\u001b[0m",
      "\u001b[1;31mNameError\u001b[0m                                 Traceback (most recent call last)",
      "\u001b[1;32me:\\kuliah\\semester5\\pembagian mesin\\js01.ipynb Cell 2'\u001b[0m in \u001b[0;36m<cell line: 2>\u001b[1;34m()\u001b[0m\n\u001b[0;32m      <a href='vscode-notebook-cell:/e%3A/kuliah/semester5/pembagian%20mesin/js01.ipynb#ch0000001?line=0'>1</a>\u001b[0m nilai \u001b[39m=\u001b[39m [\u001b[39m10\u001b[39m, \u001b[39m13\u001b[39m, \u001b[39m14\u001b[39m, \u001b[39m12\u001b[39m] \n\u001b[1;32m----> <a href='vscode-notebook-cell:/e%3A/kuliah/semester5/pembagian%20mesin/js01.ipynb#ch0000001?line=1'>2</a>\u001b[0m nilai_norm \u001b[39m=\u001b[39m norm_manual(nilai)\n\u001b[0;32m      <a href='vscode-notebook-cell:/e%3A/kuliah/semester5/pembagian%20mesin/js01.ipynb#ch0000001?line=2'>3</a>\u001b[0m nilai_norm\n",
      "\u001b[1;32me:\\kuliah\\semester5\\pembagian mesin\\js01.ipynb Cell 1'\u001b[0m in \u001b[0;36mnorm_manual\u001b[1;34m(data)\u001b[0m\n\u001b[0;32m      <a href='vscode-notebook-cell:/e%3A/kuliah/semester5/pembagian%20mesin/js01.ipynb#ch0000000?line=4'>5</a>\u001b[0m l_data \u001b[39m=\u001b[39m \u001b[39mlen\u001b[39m(data) \u001b[39m# panjang data\u001b[39;00m\n\u001b[0;32m      <a href='vscode-notebook-cell:/e%3A/kuliah/semester5/pembagian%20mesin/js01.ipynb#ch0000000?line=6'>7</a>\u001b[0m \u001b[39mfor\u001b[39;00m i \u001b[39min\u001b[39;00m \u001b[39mrange\u001b[39m(\u001b[39m0\u001b[39m, l_data):\n\u001b[1;32m----> <a href='vscode-notebook-cell:/e%3A/kuliah/semester5/pembagian%20mesin/js01.ipynb#ch0000000?line=7'>8</a>\u001b[0m     data[i] \u001b[39m=\u001b[39m (data[i] \u001b[39m-\u001b[39m n_min) \u001b[39m/\u001b[39m (n_max \u001b[39m-\u001b[39m n_nim)\n\u001b[0;32m     <a href='vscode-notebook-cell:/e%3A/kuliah/semester5/pembagian%20mesin/js01.ipynb#ch0000000?line=10'>11</a>\u001b[0m \u001b[39mreturn\u001b[39;00m data\n",
      "\u001b[1;31mNameError\u001b[0m: name 'n_nim' is not defined"
     ]
    }
   ],
   "source": [
    "nilai = [10, 13, 14, 12] \n",
    "nilai_norm = norm_manual(nilai)\n",
    "nilai_norm"
   ]
  },
  {
   "cell_type": "code",
   "execution_count": 16,
   "metadata": {},
   "outputs": [],
   "source": [
    "import numpy as np\n",
    "from sklearn.preprocessing import MinMaxScaler, StandardScaler\n"
   ]
  },
  {
   "cell_type": "code",
   "execution_count": 12,
   "metadata": {},
   "outputs": [
    {
     "data": {
      "text/plain": [
       "array([[0., 0., 0., 0., 0., 0., 0., 0.]])"
      ]
     },
     "execution_count": 12,
     "metadata": {},
     "output_type": "execute_result"
    }
   ],
   "source": [
    "data = [\n",
    "    [100, 0.0001],\n",
    "    [8, 0.05],\n",
    "    [50, 0.005]\n",
    "    [88, 0.07],\n",
    "    [4, 0.1]\n",
    "]\n",
    "data = np.asarray(data)\n",
    "data.shape\n",
    "\n",
    "scaler = MinMaxScaler()\n",
    "\n",
    "scaled = scaler.fit_transform(data)\n",
    "print(scaled)"
   ]
  },
  {
   "cell_type": "code",
   "execution_count": 13,
   "metadata": {},
   "outputs": [],
   "source": [
    "def stand_manual(data):\n",
    "    n_mean = np.mean(data)\n",
    "    n_std = np.std(data)\n",
    "    l_data = len(data)\n",
    "\n",
    "    for i in range(0, l_data):\n",
    "        data[i] = (data[i] - n_mean) / n_std\n",
    "\n",
    "    return data"
   ]
  },
  {
   "cell_type": "code",
   "execution_count": 14,
   "metadata": {},
   "outputs": [
    {
     "data": {
      "text/plain": [
       "[-1.2816138016780185,\n",
       " -0.9709195467257716,\n",
       " -0.6602252917735247,\n",
       " -0.3495310368212778,\n",
       " -0.03883678186903087,\n",
       " 0.27185747308321606,\n",
       " 1.2039402379399569,\n",
       " 1.8253287478444506]"
      ]
     },
     "execution_count": 14,
     "metadata": {},
     "output_type": "execute_result"
    }
   ],
   "source": [
    "nilai = [10, 11, 12, 13, 14, 15, 18, 20]\n",
    "nilai_std = stand_manual(nilai)\n",
    "nilai_std"
   ]
  },
  {
   "cell_type": "code",
   "execution_count": 19,
   "metadata": {},
   "outputs": [
    {
     "name": "stdout",
     "output_type": "stream",
     "text": [
      "Data asli:\n",
      "[[100, 0.0001], [8, 0.05], [50, 0.0005], [88, 0.07], [4, 0.1]]\n",
      "Data transform hasil standardisasi:\n",
      "[[ 1.26398112 -1.12411649]\n",
      " [-1.06174414  0.15015459]\n",
      " [ 0.         -1.1139019 ]\n",
      " [ 0.96062565  0.66088448]\n",
      " [-1.16286263  1.42697932]]\n"
     ]
    }
   ],
   "source": [
    "from numpy import asarray\n",
    "from sklearn.preprocessing import StandardScaler\n",
    "\n",
    "#define data\n",
    "data = ([[100, 0.0001],\n",
    "        [8, 0.05],\n",
    "        [50, 0.0005],\n",
    "        [88, 0.07],\n",
    "        [4, 0.1]])\n",
    "\n",
    "print (\"Data asli:\")\n",
    "print(data)\n",
    "\n",
    "#define standard scaler\n",
    "scaler = StandardScaler()\n",
    "\n",
    "print (\"Data transform hasil standardisasi:\")\n",
    "\n",
    "#transform data\n",
    "scaled = scaler.fit_transform(data)\n",
    "print(scaled)"
   ]
  },
  {
   "cell_type": "code",
   "execution_count": 18,
   "metadata": {},
   "outputs": [
    {
     "data": {
      "text/plain": [
       "array([[3.],\n",
       "       [0.],\n",
       "       [1.],\n",
       "       [2.],\n",
       "       [4.]])"
      ]
     },
     "execution_count": 18,
     "metadata": {},
     "output_type": "execute_result"
    }
   ],
   "source": [
    "from sklearn.preprocessing import OrdinalEncoder\n",
    "\n",
    "oe = OrdinalEncoder()\n",
    "\n",
    "poly = [\n",
    "    ['POLIEMA'],\n",
    "    ['PENS'],\n",
    "    ['PNJ'],\n",
    "    ['POLBAN'],\n",
    "    ['POLJIE']\n",
    "]\n",
    "\n",
    "poly_enc = oe.fit_transform(poly)\n",
    "poly_enc"
   ]
  },
  {
   "cell_type": "code",
   "execution_count": 21,
   "metadata": {},
   "outputs": [
    {
     "data": {
      "text/plain": [
       "array([[0., 0., 0., 1., 0.],\n",
       "       [1., 0., 0., 0., 0.],\n",
       "       [0., 1., 0., 0., 0.],\n",
       "       [0., 0., 1., 0., 0.],\n",
       "       [0., 0., 0., 0., 1.]])"
      ]
     },
     "execution_count": 21,
     "metadata": {},
     "output_type": "execute_result"
    }
   ],
   "source": [
    "from sklearn.preprocessing import OneHotEncoder\n",
    "\n",
    "oh = OneHotEncoder()\n",
    "\n",
    "poly = [\n",
    "    ['POLIEMA'],\n",
    "    ['PENS'],\n",
    "    ['PNJ'],\n",
    "    ['POLBAN'],\n",
    "    ['POLJIE']\n",
    "]\n",
    "\n",
    "poly_enc = oh.fit_transform(poly)\n",
    "poly_enc.toarray()"
   ]
  },
  {
   "cell_type": "code",
   "execution_count": 27,
   "metadata": {},
   "outputs": [
    {
     "data": {
      "text/plain": [
       "array([[0., 0., 0., 1., 0.],\n",
       "       [1., 0., 0., 0., 0.],\n",
       "       [0., 1., 0., 0., 0.],\n",
       "       [0., 0., 1., 0., 0.],\n",
       "       [0., 0., 0., 0., 1.]])"
      ]
     },
     "execution_count": 27,
     "metadata": {},
     "output_type": "execute_result"
    }
   ],
   "source": [
    "from sklearn.feature_extraction import DictVectorizer\n",
    "\n",
    "dv = DictVectorizer ()\n",
    "\n",
    "dt = [\n",
    "        {'name' : 'POLINEMA'},\n",
    "        {'name' : 'PENS'},\n",
    "        {'name' : 'PNJ'},\n",
    "        {'name' : 'POLBAN'},\n",
    "        {'name' : 'POLIJE'},\n",
    "]\n",
    "\n",
    "poly_dv = oh.fit_transform(poly)\n",
    "poly_dv.toarray()"
   ]
  },
  {
   "cell_type": "code",
   "execution_count": 29,
   "metadata": {},
   "outputs": [],
   "source": [
    "#Corpus / Text\n",
    "corpus = ['the house had a tiny little mouse',\n",
    "    'the cat saw the mouse',\n",
    "    'the mouse ran away from the house',\n",
    "    'the cat finally ate the mouse',\n",
    "    'the end of the mouse story']"
   ]
  },
  {
   "cell_type": "code",
   "execution_count": 30,
   "metadata": {},
   "outputs": [
    {
     "name": "stdout",
     "output_type": "stream",
     "text": [
      "  (0, 7)\t0.2808823162882302\n",
      "  (0, 6)\t0.5894630806320427\n",
      "  (0, 11)\t0.5894630806320427\n",
      "  (0, 5)\t0.47557510189256375\n",
      "  (1, 9)\t0.7297183669435993\n",
      "  (1, 2)\t0.5887321837696324\n",
      "  (1, 7)\t0.3477147117091919\n",
      "  (2, 1)\t0.5894630806320427\n",
      "  (2, 8)\t0.5894630806320427\n",
      "  (2, 7)\t0.2808823162882302\n",
      "  (2, 5)\t0.47557510189256375\n",
      "  (3, 0)\t0.5894630806320427\n",
      "  (3, 4)\t0.5894630806320427\n",
      "  (3, 2)\t0.47557510189256375\n",
      "  (3, 7)\t0.2808823162882302\n",
      "  (4, 10)\t0.6700917930430479\n",
      "  (4, 3)\t0.6700917930430479\n",
      "  (4, 7)\t0.3193023297639811\n"
     ]
    }
   ],
   "source": [
    "from sklearn.feature_extraction.text import TfidfVectorizer\n",
    "\n",
    "vectorizer = TfidfVectorizer(stop_words='english')\n",
    "\n",
    "response = vectorizer.fit_transform(corpus)\n",
    "print(response)\n",
    "\n"
   ]
  },
  {
   "cell_type": "code",
   "execution_count": null,
   "metadata": {},
   "outputs": [],
   "source": []
  }
 ],
 "metadata": {
  "interpreter": {
   "hash": "380030d1298d5a27518acca789ff38fe82bbf2e68b73263de6a6bf23efb7704c"
  },
  "kernelspec": {
   "display_name": "Python 3.9.12 ('base')",
   "language": "python",
   "name": "python3"
  },
  "language_info": {
   "codemirror_mode": {
    "name": "ipython",
    "version": 3
   },
   "file_extension": ".py",
   "mimetype": "text/x-python",
   "name": "python",
   "nbconvert_exporter": "python",
   "pygments_lexer": "ipython3",
   "version": "3.9.12"
  },
  "orig_nbformat": 4
 },
 "nbformat": 4,
 "nbformat_minor": 2
}
